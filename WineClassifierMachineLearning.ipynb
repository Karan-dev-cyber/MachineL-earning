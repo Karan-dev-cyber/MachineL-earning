{
  "nbformat": 4,
  "nbformat_minor": 0,
  "metadata": {
    "colab": {
      "name": "WineClassifierMachineLearning.ipynb",
      "provenance": [],
      "authorship_tag": "ABX9TyN+2zoi2y1JaBcBu9W89rDy",
      "include_colab_link": true
    },
    "kernelspec": {
      "name": "python3",
      "display_name": "Python 3"
    }
  },
  "cells": [
    {
      "cell_type": "markdown",
      "metadata": {
        "id": "view-in-github",
        "colab_type": "text"
      },
      "source": [
        "<a href=\"https://colab.research.google.com/github/Karan-dev-cyber/MachineLearning/blob/master/WineClassifierMachineLearning.ipynb\" target=\"_parent\"><img src=\"https://colab.research.google.com/assets/colab-badge.svg\" alt=\"Open In Colab\"/></a>"
      ]
    },
    {
      "cell_type": "code",
      "metadata": {
        "id": "Ys2X6jntyP7y",
        "colab_type": "code",
        "colab": {}
      },
      "source": [
        "import pandas as pd\n",
        "import numpy as np\n",
        "from sklearn.datasets import load_wine\n",
        "from sklearn.metrics import accuracy_score,classification_report,confusion_matrix\n",
        "from sklearn.model_selection import train_test_split\n",
        "from sklearn.preprocessing import MinMaxScaler\n",
        "from sklearn.neighbors import KNeighborsClassifier\n",
        "import matplotlib.pyplot as plt"
      ],
      "execution_count": null,
      "outputs": []
    },
    {
      "cell_type": "code",
      "metadata": {
        "id": "AckmdZ7Y3WHs",
        "colab_type": "code",
        "colab": {}
      },
      "source": [
        "#\n",
        "# load data\n",
        "#\n",
        "wine = load_wine()\n",
        "data = pd.DataFrame(wine.data,columns = wine.feature_names)\n",
        "data['target'] = wine.target"
      ],
      "execution_count": null,
      "outputs": []
    },
    {
      "cell_type": "code",
      "metadata": {
        "id": "tUHxtGOn33Si",
        "colab_type": "code",
        "colab": {
          "base_uri": "https://localhost:8080/",
          "height": 410
        },
        "outputId": "a4265336-379f-41cf-c2e4-be25f5c92f2b"
      },
      "source": [
        "#\n",
        "# visualising the correlation and balance\n",
        "#\n",
        "\n",
        "data.corr()['target'].drop('target').map(lambda data:abs(data)).plot(kind = 'bar')\n",
        "count = data['target'].value_counts()"
      ],
      "execution_count": null,
      "outputs": [
        {
          "output_type": "display_data",
          "data": {
            "image/png": "[encoded data removed]",
            "text/plain": [
              "<Figure size 432x288 with 1 Axes>"
            ]
          },
          "metadata": {
            "tags": [],
            "needs_background": "light"
          }
        }
      ]
    },
    {
      "cell_type": "code",
      "metadata": {
        "id": "AsVdoAEw6AeS",
        "colab_type": "code",
        "colab": {}
      },
      "source": [
        "#\n",
        "# Split the data\n",
        "#\n",
        "X = data.drop('target',axis = 1).values\n",
        "Y = data['target'].values\n",
        "\n",
        "X_train,X_test,Y_train,Y_test = train_test_split(X,Y,random_state = 1,test_size = 0.25)"
      ],
      "execution_count": null,
      "outputs": []
    },
    {
      "cell_type": "code",
      "metadata": {
        "id": "rCmRffGT6gSb",
        "colab_type": "code",
        "colab": {}
      },
      "source": [
        "#\n",
        "# Defining the class\n",
        "#\n",
        "\n",
        "class WineClassifier:\n",
        "\n",
        "  def __init__(self,scaled,K):\n",
        "    self.scaled = scaled\n",
        "    self.K = K\n",
        "    self.model = None\n",
        "  \n",
        "  def classifier(self,X_train,Y_train):\n",
        "    self.model = KNeighborsClassifier(n_neighbors = self.K,\n",
        "                                      metric = 'euclidean')\n",
        "    self.model.fit(X_train,Y_train)\n",
        "  \n",
        "  def fit(self,train,test,metric = False):\n",
        "    X_train,Y_train = train\n",
        "    X_test,Y_test = test\n",
        "    \n",
        "    if self.scaled:\n",
        "      self.scale = MinMaxScaler()\n",
        "      X_train = self.scale.fit_transform(X_train)\n",
        "      X_test = self.scale.transform(X_test)\n",
        "    \n",
        "    self.classifier(X_train,Y_train)\n",
        "\n",
        "    if metric:\n",
        "      self.evaluation(X_test,Y_test)\n",
        "  def pred(self,data):\n",
        "\n",
        "    if self.scaled:\n",
        "      data = self.scale.transform(data)\n",
        "    \n",
        "    y_pred = self.model.predict(data)\n",
        "    return y_pred\n",
        "  \n",
        "  def evaluation(self,X_test,Y_test):\n",
        "    if self.scaled:\n",
        "      X_test = self.scale.inverse_transform(X_test)\n",
        "    y_pred = self.pred(X_test)\n",
        "    \n",
        "    print('Validation accuracy',accuracy_score(y_pred,Y_test))"
      ],
      "execution_count": null,
      "outputs": []
    },
    {
      "cell_type": "code",
      "metadata": {
        "id": "R78ZFJQd8rqZ",
        "colab_type": "code",
        "colab": {}
      },
      "source": [
        "model = WineClassifier(scaled = True,K = 11)"
      ],
      "execution_count": null,
      "outputs": []
    },
    {
      "cell_type": "code",
      "metadata": {
        "id": "lWvyNGa5-y_Z",
        "colab_type": "code",
        "colab": {
          "base_uri": "https://localhost:8080/",
          "height": 34
        },
        "outputId": "9266e88b-afb8-429c-9066-57125858ef54"
      },
      "source": [
        "model.fit((X_train,Y_train),(X_test,Y_test))"
      ],
      "execution_count": null,
      "outputs": [
        {
          "output_type": "stream",
          "text": [
            "Validation accuracy 0.9777777777777777\n"
          ],
          "name": "stdout"
        }
      ]
    },
    {
      "cell_type": "code",
      "metadata": {
        "id": "h3QdevNIAsYo",
        "colab_type": "code",
        "colab": {}
      },
      "source": [
        ""
      ],
      "execution_count": null,
      "outputs": []
    }
  ]
}